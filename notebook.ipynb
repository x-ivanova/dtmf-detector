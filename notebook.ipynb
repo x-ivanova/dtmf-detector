{
 "cells": [
  {
   "cell_type": "code",
   "execution_count": 6,
   "metadata": {},
   "outputs": [],
   "source": [
    "# ЗАГРУЖАЕМ НЕОБХОДИМЫЕ ФУНКЦИИ ИЗ ФАЙЛА goertzel.py\n",
    "\n",
    "from goertzel import detect_dtmf"
   ]
  },
  {
   "cell_type": "code",
   "execution_count": 5,
   "metadata": {},
   "outputs": [
    {
     "name": "stdout",
     "output_type": "stream",
     "text": [
      "Выполняется расшифровка WAV файла - files/dtmf.wav\n",
      "Расшифровка DTMF успешно выполнена!\n",
      "Номер: 369347\n"
     ]
    },
    {
     "data": {
      "text/plain": [
       "'369347'"
      ]
     },
     "execution_count": 5,
     "metadata": {},
     "output_type": "execute_result"
    }
   ],
   "source": [
    "detect_dtmf('files/dtmf.wav')"
   ]
  }
 ],
 "metadata": {
  "kernelspec": {
   "display_name": "Python 3",
   "language": "python",
   "name": "python3"
  },
  "language_info": {
   "codemirror_mode": {
    "name": "ipython",
    "version": 3
   },
   "file_extension": ".py",
   "mimetype": "text/x-python",
   "name": "python",
   "nbconvert_exporter": "python",
   "pygments_lexer": "ipython3",
   "version": "3.6.4"
  }
 },
 "nbformat": 4,
 "nbformat_minor": 2
}
